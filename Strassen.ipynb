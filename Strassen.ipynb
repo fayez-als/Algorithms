{
 "metadata": {
  "language_info": {
   "codemirror_mode": {
    "name": "ipython",
    "version": 3
   },
   "file_extension": ".py",
   "mimetype": "text/x-python",
   "name": "python",
   "nbconvert_exporter": "python",
   "pygments_lexer": "ipython3",
   "version": "3.8.3"
  },
  "orig_nbformat": 2,
  "kernelspec": {
   "name": "python3",
   "display_name": "Python 3.8.3 64-bit ('base': conda)",
   "metadata": {
    "interpreter": {
     "hash": "c50b438c8d74c2f8e87535b55363513e1c6d3188e1f425c448c098b913074ab9"
    }
   }
  }
 },
 "nbformat": 4,
 "nbformat_minor": 2,
 "cells": [
  {
   "cell_type": "code",
   "execution_count": 30,
   "metadata": {},
   "outputs": [],
   "source": [
    "def nested_z(rows,columns):\n",
    "    return [[0]* columns  for i in range(rows)]"
   ]
  },
  {
   "cell_type": "code",
   "execution_count": 130,
   "metadata": {},
   "outputs": [],
   "source": [
    "def slatrix(arr,n):\n",
    "\n",
    "    \n",
    "\n",
    "\n",
    "\n",
    "    q1= [row[:n] for row in A[:n]]\n",
    "    q2 = [row[n:] for row in A[:n]]\n",
    "    q3 = [row[:n] for row in A[n:]]\n",
    "    q4 = [row[n:] for row in A[n:]]\n",
    "\n",
    "    return q1,q2,q3,q4"
   ]
  },
  {
   "cell_type": "code",
   "execution_count": 155,
   "metadata": {},
   "outputs": [],
   "source": [
    "def navtrix(A,B):\n",
    "       Q1 = A[0][0]*B[0][0]  +  A[0][1]*B[1][0]\n",
    "       Q2 = A[0][0]*B[0][1]  +  A[0][1]*B[1][1]\n",
    "       Q3= A[1][0]*B[0][0]  +  A[1][1]*B[1][0]\n",
    "       Q4 = A[1][0]*B[0][1]  +  A[1][1]*B[1][1]\n",
    "\n",
    "       return [[Q1,Q2],[Q3,Q4]]\n"
   ]
  },
  {
   "cell_type": "code",
   "execution_count": 252,
   "metadata": {},
   "outputs": [],
   "source": [
    "def strassen(A,B,n):\n",
    "    if n <3:\n",
    "        \n",
    "\n",
    "       return navtrix(A,B)\n",
    "\n",
    "    \n",
    "    else:\n",
    "        half = int(n//2)\n",
    "\n",
    "        A1,A2,A3,A4 = slatrix(A,half)\n",
    "        B1,B2,B3,B4 = slatrix(B,half)\n",
    "        print(A)\n",
    "        print(B)\n",
    "        print(A1)\n",
    "        print(B1)\n",
    "        print(A2)\n",
    "        print(B2)\n",
    "\n",
    "\n",
    "\n",
    "        LL = my_sum(strassen(A1,B1,n/2),strassen(A2,B3,n/2))\n",
    "        BB = my_sum(strassen(A1,B2,n/2),strassen(A2,B4,n/2))\n",
    "        FF = my_sum(strassen(A3,B1,n/2),strassen(A4,B3,n/2))\n",
    "        RR = my_sum(strassen(A3,B2,n/2),strassen(A4,B4,n/2))\n",
    "\n",
    "        return LL,BB,FF,RR\n",
    "\n",
    "\n"
   ]
  },
  {
   "cell_type": "code",
   "execution_count": 250,
   "metadata": {},
   "outputs": [],
   "source": [
    "A = [[2,4,3,2,2,4,3,2],[5,6,1,1,2,4,3,2],[3,3,3,3,2,4,3,2],[1,2,3,4,2,4,3,2],[2,4,3,2,2,4,3,2],[5,6,1,1,2,4,3,2],[3,3,3,3,2,4,3,2],[1,2,3,4,2,4,3,2]]"
   ]
  },
  {
   "cell_type": "code",
   "execution_count": 249,
   "metadata": {},
   "outputs": [
    {
     "output_type": "stream",
     "name": "stdout",
     "text": [
      "2 4 3 2 2 4 3 2\n5 6 1 1 2 4 3 2\n3 3 3 3 2 4 3 2\n1 2 3 4 2 4 3 2\n2 4 3 2 2 4 3 2\n5 6 1 1 2 4 3 2\n3 3 3 3 2 4 3 2\n1 2 3 4 2 4 3 2\n"
     ]
    }
   ],
   "source": [
    "for row in A:\n",
    "    print(*row)"
   ]
  },
  {
   "cell_type": "code",
   "execution_count": 253,
   "metadata": {},
   "outputs": [
    {
     "output_type": "stream",
     "name": "stdout",
     "text": [
      "[[2, 4, 3, 2, 2, 4, 3, 2], [5, 6, 1, 1, 2, 4, 3, 2], [3, 3, 3, 3, 2, 4, 3, 2], [1, 2, 3, 4, 2, 4, 3, 2], [2, 4, 3, 2, 2, 4, 3, 2], [5, 6, 1, 1, 2, 4, 3, 2], [3, 3, 3, 3, 2, 4, 3, 2], [1, 2, 3, 4, 2, 4, 3, 2]]\n[[2, 4, 3, 2, 2, 4, 3, 2], [5, 6, 1, 1, 2, 4, 3, 2], [3, 3, 3, 3, 2, 4, 3, 2], [1, 2, 3, 4, 2, 4, 3, 2], [2, 4, 3, 2, 2, 4, 3, 2], [5, 6, 1, 1, 2, 4, 3, 2], [3, 3, 3, 3, 2, 4, 3, 2], [1, 2, 3, 4, 2, 4, 3, 2]]\n[[2, 4, 3, 2], [5, 6, 1, 1], [3, 3, 3, 3], [1, 2, 3, 4]]\n[[2, 4, 3, 2], [5, 6, 1, 1], [3, 3, 3, 3], [1, 2, 3, 4]]\n[[2, 4, 3, 2], [2, 4, 3, 2], [2, 4, 3, 2], [2, 4, 3, 2]]\n[[2, 4, 3, 2], [2, 4, 3, 2], [2, 4, 3, 2], [2, 4, 3, 2]]\n[[2, 4, 3, 2], [5, 6, 1, 1], [3, 3, 3, 3], [1, 2, 3, 4]]\n[[2, 4, 3, 2], [5, 6, 1, 1], [3, 3, 3, 3], [1, 2, 3, 4]]\n[[2, 4], [5, 6]]\n[[2, 4], [5, 6]]\n[[3, 2, 2, 4, 3, 2], [1, 1, 2, 4, 3, 2]]\n[[3, 2, 2, 4, 3, 2], [1, 1, 2, 4, 3, 2]]\n[[2, 4, 3, 2], [2, 4, 3, 2], [2, 4, 3, 2], [2, 4, 3, 2]]\n[[2, 4, 3, 2], [5, 6, 1, 1], [3, 3, 3, 3], [1, 2, 3, 4]]\n[[2, 4], [5, 6]]\n[[2, 4], [5, 6]]\n[[3, 2, 2, 4, 3, 2], [1, 1, 2, 4, 3, 2]]\n[[3, 2, 2, 4, 3, 2], [1, 1, 2, 4, 3, 2]]\n"
     ]
    },
    {
     "output_type": "error",
     "ename": "TypeError",
     "evalue": "unsupported operand type(s) for +: 'int' and 'list'",
     "traceback": [
      "\u001b[1;31m---------------------------------------------------------------------------\u001b[0m",
      "\u001b[1;31mTypeError\u001b[0m                                 Traceback (most recent call last)",
      "\u001b[1;32m<ipython-input-253-df99d92fa736>\u001b[0m in \u001b[0;36m<module>\u001b[1;34m\u001b[0m\n\u001b[1;32m----> 1\u001b[1;33m \u001b[0mstrassen\u001b[0m\u001b[1;33m(\u001b[0m\u001b[0mA\u001b[0m\u001b[1;33m,\u001b[0m\u001b[0mA\u001b[0m\u001b[1;33m,\u001b[0m\u001b[1;36m8\u001b[0m\u001b[1;33m)\u001b[0m\u001b[1;33m\u001b[0m\u001b[1;33m\u001b[0m\u001b[0m\n\u001b[0m",
      "\u001b[1;32m<ipython-input-252-336d3078ae8d>\u001b[0m in \u001b[0;36mstrassen\u001b[1;34m(A, B, n)\u001b[0m\n\u001b[0;32m     20\u001b[0m \u001b[1;33m\u001b[0m\u001b[0m\n\u001b[0;32m     21\u001b[0m \u001b[1;33m\u001b[0m\u001b[0m\n\u001b[1;32m---> 22\u001b[1;33m         \u001b[0mLL\u001b[0m \u001b[1;33m=\u001b[0m \u001b[0mmy_sum\u001b[0m\u001b[1;33m(\u001b[0m\u001b[0mstrassen\u001b[0m\u001b[1;33m(\u001b[0m\u001b[0mA1\u001b[0m\u001b[1;33m,\u001b[0m\u001b[0mB1\u001b[0m\u001b[1;33m,\u001b[0m\u001b[0mn\u001b[0m\u001b[1;33m/\u001b[0m\u001b[1;36m2\u001b[0m\u001b[1;33m)\u001b[0m\u001b[1;33m,\u001b[0m\u001b[0mstrassen\u001b[0m\u001b[1;33m(\u001b[0m\u001b[0mA2\u001b[0m\u001b[1;33m,\u001b[0m\u001b[0mB3\u001b[0m\u001b[1;33m,\u001b[0m\u001b[0mn\u001b[0m\u001b[1;33m/\u001b[0m\u001b[1;36m2\u001b[0m\u001b[1;33m)\u001b[0m\u001b[1;33m)\u001b[0m\u001b[1;33m\u001b[0m\u001b[1;33m\u001b[0m\u001b[0m\n\u001b[0m\u001b[0;32m     23\u001b[0m         \u001b[0mBB\u001b[0m \u001b[1;33m=\u001b[0m \u001b[0mmy_sum\u001b[0m\u001b[1;33m(\u001b[0m\u001b[0mstrassen\u001b[0m\u001b[1;33m(\u001b[0m\u001b[0mA1\u001b[0m\u001b[1;33m,\u001b[0m\u001b[0mB2\u001b[0m\u001b[1;33m,\u001b[0m\u001b[0mn\u001b[0m\u001b[1;33m/\u001b[0m\u001b[1;36m2\u001b[0m\u001b[1;33m)\u001b[0m\u001b[1;33m,\u001b[0m\u001b[0mstrassen\u001b[0m\u001b[1;33m(\u001b[0m\u001b[0mA2\u001b[0m\u001b[1;33m,\u001b[0m\u001b[0mB4\u001b[0m\u001b[1;33m,\u001b[0m\u001b[0mn\u001b[0m\u001b[1;33m/\u001b[0m\u001b[1;36m2\u001b[0m\u001b[1;33m)\u001b[0m\u001b[1;33m)\u001b[0m\u001b[1;33m\u001b[0m\u001b[1;33m\u001b[0m\u001b[0m\n\u001b[0;32m     24\u001b[0m         \u001b[0mFF\u001b[0m \u001b[1;33m=\u001b[0m \u001b[0mmy_sum\u001b[0m\u001b[1;33m(\u001b[0m\u001b[0mstrassen\u001b[0m\u001b[1;33m(\u001b[0m\u001b[0mA3\u001b[0m\u001b[1;33m,\u001b[0m\u001b[0mB1\u001b[0m\u001b[1;33m,\u001b[0m\u001b[0mn\u001b[0m\u001b[1;33m/\u001b[0m\u001b[1;36m2\u001b[0m\u001b[1;33m)\u001b[0m\u001b[1;33m,\u001b[0m\u001b[0mstrassen\u001b[0m\u001b[1;33m(\u001b[0m\u001b[0mA4\u001b[0m\u001b[1;33m,\u001b[0m\u001b[0mB3\u001b[0m\u001b[1;33m,\u001b[0m\u001b[0mn\u001b[0m\u001b[1;33m/\u001b[0m\u001b[1;36m2\u001b[0m\u001b[1;33m)\u001b[0m\u001b[1;33m)\u001b[0m\u001b[1;33m\u001b[0m\u001b[1;33m\u001b[0m\u001b[0m\n",
      "\u001b[1;32m<ipython-input-232-811463e66221>\u001b[0m in \u001b[0;36mmy_sum\u001b[1;34m(*nested_lists)\u001b[0m\n\u001b[0;32m      1\u001b[0m \u001b[1;32mdef\u001b[0m \u001b[0mmy_sum\u001b[0m\u001b[1;33m(\u001b[0m\u001b[1;33m*\u001b[0m\u001b[0mnested_lists\u001b[0m\u001b[1;33m)\u001b[0m\u001b[1;33m:\u001b[0m\u001b[1;33m\u001b[0m\u001b[1;33m\u001b[0m\u001b[0m\n\u001b[1;32m----> 2\u001b[1;33m     \u001b[1;32mreturn\u001b[0m \u001b[1;33m[\u001b[0m\u001b[1;33m[\u001b[0m\u001b[0msum\u001b[0m\u001b[1;33m(\u001b[0m\u001b[0mitems\u001b[0m\u001b[1;33m)\u001b[0m \u001b[1;32mfor\u001b[0m \u001b[0mitems\u001b[0m \u001b[1;32min\u001b[0m \u001b[0mzip\u001b[0m\u001b[1;33m(\u001b[0m\u001b[1;33m*\u001b[0m\u001b[0mzipped_list\u001b[0m\u001b[1;33m)\u001b[0m\u001b[1;33m]\u001b[0m \u001b[1;32mfor\u001b[0m \u001b[0mzipped_list\u001b[0m \u001b[1;32min\u001b[0m \u001b[0mzip\u001b[0m\u001b[1;33m(\u001b[0m\u001b[1;33m*\u001b[0m\u001b[0mnested_lists\u001b[0m\u001b[1;33m)\u001b[0m\u001b[1;33m]\u001b[0m\u001b[1;33m\u001b[0m\u001b[1;33m\u001b[0m\u001b[0m\n\u001b[0m",
      "\u001b[1;32m<ipython-input-232-811463e66221>\u001b[0m in \u001b[0;36m<listcomp>\u001b[1;34m(.0)\u001b[0m\n\u001b[0;32m      1\u001b[0m \u001b[1;32mdef\u001b[0m \u001b[0mmy_sum\u001b[0m\u001b[1;33m(\u001b[0m\u001b[1;33m*\u001b[0m\u001b[0mnested_lists\u001b[0m\u001b[1;33m)\u001b[0m\u001b[1;33m:\u001b[0m\u001b[1;33m\u001b[0m\u001b[1;33m\u001b[0m\u001b[0m\n\u001b[1;32m----> 2\u001b[1;33m     \u001b[1;32mreturn\u001b[0m \u001b[1;33m[\u001b[0m\u001b[1;33m[\u001b[0m\u001b[0msum\u001b[0m\u001b[1;33m(\u001b[0m\u001b[0mitems\u001b[0m\u001b[1;33m)\u001b[0m \u001b[1;32mfor\u001b[0m \u001b[0mitems\u001b[0m \u001b[1;32min\u001b[0m \u001b[0mzip\u001b[0m\u001b[1;33m(\u001b[0m\u001b[1;33m*\u001b[0m\u001b[0mzipped_list\u001b[0m\u001b[1;33m)\u001b[0m\u001b[1;33m]\u001b[0m \u001b[1;32mfor\u001b[0m \u001b[0mzipped_list\u001b[0m \u001b[1;32min\u001b[0m \u001b[0mzip\u001b[0m\u001b[1;33m(\u001b[0m\u001b[1;33m*\u001b[0m\u001b[0mnested_lists\u001b[0m\u001b[1;33m)\u001b[0m\u001b[1;33m]\u001b[0m\u001b[1;33m\u001b[0m\u001b[1;33m\u001b[0m\u001b[0m\n\u001b[0m",
      "\u001b[1;32m<ipython-input-232-811463e66221>\u001b[0m in \u001b[0;36m<listcomp>\u001b[1;34m(.0)\u001b[0m\n\u001b[0;32m      1\u001b[0m \u001b[1;32mdef\u001b[0m \u001b[0mmy_sum\u001b[0m\u001b[1;33m(\u001b[0m\u001b[1;33m*\u001b[0m\u001b[0mnested_lists\u001b[0m\u001b[1;33m)\u001b[0m\u001b[1;33m:\u001b[0m\u001b[1;33m\u001b[0m\u001b[1;33m\u001b[0m\u001b[0m\n\u001b[1;32m----> 2\u001b[1;33m     \u001b[1;32mreturn\u001b[0m \u001b[1;33m[\u001b[0m\u001b[1;33m[\u001b[0m\u001b[0msum\u001b[0m\u001b[1;33m(\u001b[0m\u001b[0mitems\u001b[0m\u001b[1;33m)\u001b[0m \u001b[1;32mfor\u001b[0m \u001b[0mitems\u001b[0m \u001b[1;32min\u001b[0m \u001b[0mzip\u001b[0m\u001b[1;33m(\u001b[0m\u001b[1;33m*\u001b[0m\u001b[0mzipped_list\u001b[0m\u001b[1;33m)\u001b[0m\u001b[1;33m]\u001b[0m \u001b[1;32mfor\u001b[0m \u001b[0mzipped_list\u001b[0m \u001b[1;32min\u001b[0m \u001b[0mzip\u001b[0m\u001b[1;33m(\u001b[0m\u001b[1;33m*\u001b[0m\u001b[0mnested_lists\u001b[0m\u001b[1;33m)\u001b[0m\u001b[1;33m]\u001b[0m\u001b[1;33m\u001b[0m\u001b[1;33m\u001b[0m\u001b[0m\n\u001b[0m",
      "\u001b[1;31mTypeError\u001b[0m: unsupported operand type(s) for +: 'int' and 'list'"
     ]
    }
   ],
   "source": [
    "strassen(A,A,8)"
   ]
  },
  {
   "cell_type": "code",
   "execution_count": 169,
   "metadata": {},
   "outputs": [],
   "source": [
    "A1,A2,A3,A4 = slatrix(A,n)\n",
    "B1,B2,B3,B4 = slatrix(A,n)"
   ]
  },
  {
   "cell_type": "code",
   "execution_count": 185,
   "metadata": {},
   "outputs": [
    {
     "output_type": "execute_result",
     "data": {
      "text/plain": [
       "[[2, 4], [5, 6]]"
      ]
     },
     "metadata": {},
     "execution_count": 185
    }
   ],
   "source": [
    "A1"
   ]
  },
  {
   "cell_type": "code",
   "execution_count": 186,
   "metadata": {},
   "outputs": [
    {
     "output_type": "execute_result",
     "data": {
      "text/plain": [
       "[[2, 4], [5, 6]]"
      ]
     },
     "metadata": {},
     "execution_count": 186
    }
   ],
   "source": [
    "B1"
   ]
  },
  {
   "cell_type": "code",
   "execution_count": 187,
   "metadata": {},
   "outputs": [
    {
     "output_type": "execute_result",
     "data": {
      "text/plain": [
       "[[24, 32], [40, 56]]"
      ]
     },
     "metadata": {},
     "execution_count": 187
    }
   ],
   "source": [
    "navtrix(A1,B1)"
   ]
  },
  {
   "cell_type": "code",
   "execution_count": 184,
   "metadata": {},
   "outputs": [
    {
     "output_type": "execute_result",
     "data": {
      "text/plain": [
       "[[24, 32], [40, 56], [11, 13], [4, 5]]"
      ]
     },
     "metadata": {},
     "execution_count": 184
    }
   ],
   "source": [
    "strassen(A1,B1,n/2)+strassen(A2,B3,n/2)\n",
    "        "
   ]
  },
  {
   "cell_type": "code",
   "execution_count": 188,
   "metadata": {},
   "outputs": [],
   "source": [
    "A = [[2,3],[2,2]]"
   ]
  },
  {
   "cell_type": "code",
   "execution_count": 189,
   "metadata": {},
   "outputs": [],
   "source": [
    "B = [[2,3],[1,1]]"
   ]
  },
  {
   "cell_type": "code",
   "execution_count": 226,
   "metadata": {},
   "outputs": [
    {
     "output_type": "execute_result",
     "data": {
      "text/plain": [
       "[[2, 3], [2, 2], [2, 3], [1, 1]]"
      ]
     },
     "metadata": {},
     "execution_count": 226
    }
   ],
   "source": []
  },
  {
   "cell_type": "code",
   "execution_count": 228,
   "metadata": {},
   "outputs": [
    {
     "output_type": "execute_result",
     "data": {
      "text/plain": [
       "[[2, 3, 2, 3], [2, 2, 1, 1]]"
      ]
     },
     "metadata": {},
     "execution_count": 228
    }
   ],
   "source": [
    "list(map(lambda x, y: x + y, A, B))\n",
    "    "
   ]
  },
  {
   "cell_type": "code",
   "execution_count": 231,
   "metadata": {},
   "outputs": [
    {
     "output_type": "execute_result",
     "data": {
      "text/plain": [
       "[<map at 0x26082140d60>, <map at 0x26082140610>]"
      ]
     },
     "metadata": {},
     "execution_count": 231
    }
   ],
   "source": [
    "list(map(lambda x, y: map(lambda i, j: i + j, x, y), A, B))"
   ]
  },
  {
   "cell_type": "code",
   "execution_count": 232,
   "metadata": {},
   "outputs": [],
   "source": [
    "def my_sum(*nested_lists):\n",
    "    return [[sum(items) for items in zip(*zipped_list)] for zipped_list in zip(*nested_lists)]"
   ]
  },
  {
   "cell_type": "code",
   "execution_count": 233,
   "metadata": {},
   "outputs": [
    {
     "output_type": "execute_result",
     "data": {
      "text/plain": [
       "[[4, 6], [3, 3]]"
      ]
     },
     "metadata": {},
     "execution_count": 233
    }
   ],
   "source": [
    "my_sum(A,B)"
   ]
  },
  {
   "cell_type": "code",
   "execution_count": null,
   "metadata": {},
   "outputs": [],
   "source": []
  }
 ]
}