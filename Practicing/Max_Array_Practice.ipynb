{
 "metadata": {
  "language_info": {
   "codemirror_mode": {
    "name": "ipython",
    "version": 3
   },
   "file_extension": ".py",
   "mimetype": "text/x-python",
   "name": "python",
   "nbconvert_exporter": "python",
   "pygments_lexer": "ipython3",
   "version": "3.8.3"
  },
  "orig_nbformat": 2,
  "kernelspec": {
   "name": "python3",
   "display_name": "Python 3.8.3 64-bit ('base': conda)",
   "metadata": {
    "interpreter": {
     "hash": "c50b438c8d74c2f8e87535b55363513e1c6d3188e1f425c448c098b913074ab9"
    }
   }
  }
 },
 "nbformat": 4,
 "nbformat_minor": 2,
 "cells": [
  {
   "cell_type": "code",
   "execution_count": 28,
   "metadata": {},
   "outputs": [],
   "source": [
    "A = [1,-4,3,1,3,-6,-5,4,10,20,-4,1,-70,2,10,10,2]"
   ]
  },
  {
   "cell_type": "code",
   "execution_count": 59,
   "metadata": {},
   "outputs": [],
   "source": [
    "def Kaden(A):\n",
    "    current_max = 0\n",
    "    total = 0\n",
    "    pair= ([None,None])\n",
    "    max_max = -float('inf')\n",
    "    \n",
    "\n",
    "    for i in range(len(A)):\n",
    "        current_max = A[i]\n",
    "        \n",
    "        total +=current_max\n",
    "        if current_max>= total:\n",
    "            total = current_max\n",
    "            temp = i\n",
    "        if total > max_max:\n",
    "            max_max = total\n",
    "            pair[0] = temp\n",
    "            pair[1] = i\n",
    "\n",
    "    return pair,max_max\n",
    "\n",
    "\n",
    "\n"
   ]
  },
  {
   "cell_type": "code",
   "execution_count": 60,
   "metadata": {},
   "outputs": [
    {
     "output_type": "execute_result",
     "data": {
      "text/plain": [
       "([7, 9], 34)"
      ]
     },
     "metadata": {},
     "execution_count": 60
    }
   ],
   "source": [
    "Kaden(A)"
   ]
  },
  {
   "cell_type": "code",
   "execution_count": 66,
   "metadata": {},
   "outputs": [],
   "source": [
    "def kadenLeft(arr):\n",
    "\n",
    "    current_max = 0\n",
    "   \n",
    "    \n",
    "    max_max = -float('inf')\n",
    "    \n",
    "\n",
    "    for i in range(len(arr)-1,-1,-1):\n",
    "        \n",
    "        current_max +=A[i]\n",
    "        \n",
    "        \n",
    "        if current_max>= max_max:\n",
    "            max_max= current_max\n",
    "            temp = i\n",
    "        \n",
    "\n",
    "    return temp,max_max\n",
    "\n",
    "\n",
    "\n"
   ]
  },
  {
   "cell_type": "code",
   "execution_count": 67,
   "metadata": {},
   "outputs": [
    {
     "output_type": "execute_result",
     "data": {
      "text/plain": [
       "(13, 24)"
      ]
     },
     "metadata": {},
     "execution_count": 67
    }
   ],
   "source": [
    "kadenLeft(A)"
   ]
  },
  {
   "cell_type": "code",
   "execution_count": 68,
   "metadata": {},
   "outputs": [
    {
     "output_type": "execute_result",
     "data": {
      "text/plain": [
       "[1, -4, 3, 1, 3, -6, -5, 4, 10, 20, -4, 1, -70, 2, 10, 10, 2]"
      ]
     },
     "metadata": {},
     "execution_count": 68
    }
   ],
   "source": [
    "A"
   ]
  },
  {
   "cell_type": "code",
   "execution_count": 69,
   "metadata": {},
   "outputs": [],
   "source": [
    "def kadenRight(arr):\n",
    "\n",
    "    current_max = 0\n",
    "   \n",
    "    \n",
    "    max_max = -float('inf')\n",
    "    \n",
    "\n",
    "    for i in range(len(arr)):\n",
    "        \n",
    "        current_max +=A[i]\n",
    "        \n",
    "        \n",
    "        if current_max>= max_max:\n",
    "            max_max= current_max\n",
    "            temp = i\n",
    "        \n",
    "\n",
    "    return temp,max_max"
   ]
  },
  {
   "cell_type": "code",
   "execution_count": 70,
   "metadata": {},
   "outputs": [
    {
     "output_type": "execute_result",
     "data": {
      "text/plain": [
       "(9, 27)"
      ]
     },
     "metadata": {},
     "execution_count": 70
    }
   ],
   "source": [
    "kadenRight(A)"
   ]
  },
  {
   "cell_type": "code",
   "execution_count": null,
   "metadata": {},
   "outputs": [],
   "source": [
    "def "
   ]
  }
 ]
}