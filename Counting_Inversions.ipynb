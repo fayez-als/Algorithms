{
 "cells": [
  {
   "cell_type": "code",
   "execution_count": 25,
   "metadata": {},
   "outputs": [],
   "source": [
    "\n",
    "\n",
    "B= [1,2,3,8,5,6,7,4]"
   ]
  },
  {
   "cell_type": "code",
   "execution_count": 59,
   "metadata": {},
   "outputs": [
    {
     "name": "stdout",
     "output_type": "stream",
     "text": [
      "comparing : 1 to:\n",
      "3\n",
      "2\n",
      "8\n",
      "5\n",
      "6\n",
      "7\n",
      "4\n",
      "comparing : 3 to:\n",
      "2\n",
      "counting :\n",
      "2\n",
      "comparing : 2 to:\n",
      "8\n",
      "5\n",
      "6\n",
      "7\n",
      "4\n",
      "comparing : 8 to:\n",
      "5\n",
      "counting :\n",
      "5\n",
      "comparing : 5 to:\n",
      "6\n",
      "7\n",
      "4\n",
      "counting :\n",
      "4\n",
      "comparing : 6 to:\n",
      "7\n",
      "4\n",
      "comparing : 7 to:\n",
      "4\n",
      "comparing : 4 to:\n"
     ]
    }
   ],
   "source": [
    "count = 0\n",
    "switched = [ ]\n",
    "\n",
    "for i in range(len(B)):\n",
    "    \n",
    "    \n",
    "    print('comparing : '+ str(B[i])+\" to:\")\n",
    "    for k in range(i+1,len(B)):\n",
    "        print(B[k])\n",
    "        if B[i]>B[k] and B[k] not in switched:\n",
    "            print('counting :')\n",
    "            print(B[k])\n",
    "            \n",
    "            switched.append(B[k])\n",
    "        \n",
    "            \n",
    "            \n",
    "            count+=1\n",
    "            break\n",
    "            \n",
    "                \n",
    "        \n",
    "    \n",
    "        \n"
   ]
  },
  {
   "cell_type": "code",
   "execution_count": 60,
   "metadata": {},
   "outputs": [
    {
     "data": {
      "text/plain": [
       "3"
      ]
     },
     "execution_count": 60,
     "metadata": {},
     "output_type": "execute_result"
    }
   ],
   "source": [
    "count"
   ]
  },
  {
   "cell_type": "code",
   "execution_count": 61,
   "metadata": {},
   "outputs": [
    {
     "data": {
      "text/plain": [
       "[2, 5, 4]"
      ]
     },
     "execution_count": 61,
     "metadata": {},
     "output_type": "execute_result"
    }
   ],
   "source": [
    "switched"
   ]
  },
  {
   "cell_type": "code",
   "execution_count": null,
   "metadata": {},
   "outputs": [],
   "source": []
  }
 ],
 "metadata": {
  "kernelspec": {
   "display_name": "Python 3",
   "language": "python",
   "name": "python3"
  },
  "language_info": {
   "codemirror_mode": {
    "name": "ipython",
    "version": 3
   },
   "file_extension": ".py",
   "mimetype": "text/x-python",
   "name": "python",
   "nbconvert_exporter": "python",
   "pygments_lexer": "ipython3",
   "version": "3.8.3"
  }
 },
 "nbformat": 4,
 "nbformat_minor": 4
}
