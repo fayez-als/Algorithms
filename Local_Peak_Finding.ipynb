{
 "cells": [
  {
   "cell_type": "code",
   "execution_count": 13,
   "metadata": {},
   "outputs": [],
   "source": [
    "def peak(arr,start,end):\n",
    "    middle = (start+end)//2\n",
    "   \n",
    "  \n",
    "    if arr[middle] < arr[middle-1]:\n",
    "        return peak(arr,start,middle)\n",
    "    \n",
    "    elif arr[middle]< arr[middle+1]:\n",
    "        return peak(arr,middle,end)\n",
    "    \n",
    "    \n",
    "    return arr[middle]\n",
    "    \n",
    "    \n",
    "        \n",
    "    \n",
    "    "
   ]
  },
  {
   "cell_type": "code",
   "execution_count": 23,
   "metadata": {},
   "outputs": [
    {
     "data": {
      "text/plain": [
       "10"
      ]
     },
     "execution_count": 23,
     "metadata": {},
     "output_type": "execute_result"
    }
   ],
   "source": [
    "peak([-float('inf'),10,9,8,7,6,5,4,3,-float('inf')],0,9)"
   ]
  }
 ],
 "metadata": {
  "kernelspec": {
   "display_name": "Python 3",
   "language": "python",
   "name": "python3"
  },
  "language_info": {
   "codemirror_mode": {
    "name": "ipython",
    "version": 3
   },
   "file_extension": ".py",
   "mimetype": "text/x-python",
   "name": "python",
   "nbconvert_exporter": "python",
   "pygments_lexer": "ipython3",
   "version": "3.8.3"
  }
 },
 "nbformat": 4,
 "nbformat_minor": 4
}
