{
 "cells": [
  {
   "cell_type": "code",
   "execution_count": 258,
   "metadata": {},
   "outputs": [
    {
     "ename": "IndentationError",
     "evalue": "expected an indented block (<ipython-input-258-46be5b02f11f>, line 22)",
     "output_type": "error",
     "traceback": [
      "\u001b[1;36m  File \u001b[1;32m\"<ipython-input-258-46be5b02f11f>\"\u001b[1;36m, line \u001b[1;32m22\u001b[0m\n\u001b[1;33m    return count\u001b[0m\n\u001b[1;37m    ^\u001b[0m\n\u001b[1;31mIndentationError\u001b[0m\u001b[1;31m:\u001b[0m expected an indented block\n"
     ]
    }
   ],
   "source": [
    "\n",
    "def merge(arr,start,half,end):\n",
    "    n1 = half-start+1\n",
    "    n2 = end-half\n",
    "    L = [None]*(n1+1)\n",
    "    R = [None]*(n2+1)\n",
    "    for i in range(n1):\n",
    "        L[i]= arr[start+i]\n",
    "    for j in range(n2):\n",
    "        R[j] = arr[half+j+1]\n",
    "        \n",
    "    L[n1] = float('inf')\n",
    "    R[n2] = float('inf')\n",
    "    \n",
    "    i=0\n",
    "    j=0\n",
    "    \n",
    "    index=0\n",
    "    count=0\n",
    "    while index <n1+n2:\n",
    "        \n",
    "                \n",
    "    return count\n",
    "    "
   ]
  },
  {
   "cell_type": "code",
   "execution_count": 263,
   "metadata": {},
   "outputs": [],
   "source": [
    "\n",
    "def merge(arr,start,half,end):\n",
    "    n1 = half-start+1\n",
    "    n2 = end-half\n",
    "    L = arr[start:half+1]\n",
    "    R = arr[half+1:end+1]\n",
    "    i=0\n",
    "    j=0\n",
    "    L.append(float('inf'))\n",
    "    R.append(float('inf'))\n",
    "    \n",
    "    \n",
    "    count=0\n",
    "    for k in range(start,end+1):\n",
    "        \n",
    "        if L[i]== float('inf'):\n",
    "            \n",
    "            arr[k] = R[j]\n",
    "            j+=1\n",
    "        elif R[j] == float('inf'):\n",
    "            arr[k] = L[i]\n",
    "            i+=1\n",
    "            \n",
    "            \n",
    "        else:\n",
    "            if L[i] <= R[j]:\n",
    "                arr[k] = L[i]\n",
    "                \n",
    "                i+=1\n",
    "            else:\n",
    "                arr[k] = R[j]\n",
    "                j+=1\n",
    "                count+= n1-i\n",
    " \n",
    "                \n",
    "    return count\n",
    " \n"
   ]
  },
  {
   "cell_type": "code",
   "execution_count": 264,
   "metadata": {},
   "outputs": [
    {
     "data": {
      "text/plain": [
       "3"
      ]
     },
     "execution_count": 264,
     "metadata": {},
     "output_type": "execute_result"
    }
   ],
   "source": [
    "merge([1,3,6,2,4,8],0,2,5)"
   ]
  },
  {
   "cell_type": "code",
   "execution_count": 265,
   "metadata": {},
   "outputs": [
    {
     "data": {
      "text/plain": [
       "[4, 4, inf, inf, 5, 7, 5, 4, 1, 0]"
      ]
     },
     "execution_count": 265,
     "metadata": {},
     "output_type": "execute_result"
    }
   ],
   "source": [
    "arr"
   ]
  },
  {
   "cell_type": "code",
   "execution_count": 266,
   "metadata": {},
   "outputs": [],
   "source": [
    "def merge_sort(arr,start,end):\n",
    "    if start >= end:\n",
    "        return 0\n",
    "    \n",
    "    if start < end:\n",
    "        \n",
    "    \n",
    "        half = (start+(end-1))//2\n",
    "    \n",
    "        x=merge_sort(arr,start,half)\n",
    "        y=merge_sort(arr,half+1,end)\n",
    "    \n",
    "        z =merge(arr,start,half,end)\n",
    "        return x+y+z"
   ]
  },
  {
   "cell_type": "code",
   "execution_count": 267,
   "metadata": {},
   "outputs": [],
   "source": [
    "arr=[4,4,3,2,5,7,5,4,1,0]"
   ]
  },
  {
   "cell_type": "code",
   "execution_count": 268,
   "metadata": {},
   "outputs": [
    {
     "data": {
      "text/plain": [
       "26"
      ]
     },
     "execution_count": 268,
     "metadata": {},
     "output_type": "execute_result"
    }
   ],
   "source": [
    "merge_sort(arr,0,len(arr)-1)"
   ]
  },
  {
   "cell_type": "code",
   "execution_count": 89,
   "metadata": {},
   "outputs": [
    {
     "data": {
      "text/plain": [
       "26"
      ]
     },
     "execution_count": 89,
     "metadata": {},
     "output_type": "execute_result"
    }
   ],
   "source": [
    "26"
   ]
  },
  {
   "cell_type": "code",
   "execution_count": 178,
   "metadata": {},
   "outputs": [
    {
     "data": {
      "text/plain": [
       "[0, 1, 2, 3, 4, 4, 4, 5, 5, 7]"
      ]
     },
     "execution_count": 178,
     "metadata": {},
     "output_type": "execute_result"
    }
   ],
   "source": [
    "arr"
   ]
  },
  {
   "cell_type": "code",
   "execution_count": null,
   "metadata": {},
   "outputs": [],
   "source": [
    "   for k in range(start,end+1):\n",
    "        \n",
    "        if L[i]== float('inf'):\n",
    "            \n",
    "            arr[k] = R[j]\n",
    "            j+=1\n",
    "        elif R[j] == float('inf'):\n",
    "            arr[k] = L[i]\n",
    "            i+=1\n",
    "            \n",
    "            \n",
    "        else:\n",
    "            if L[i] <= R[j]:\n",
    "                arr[k] = L[i]\n",
    "                \n",
    "                i+=1\n",
    "            else:\n",
    "                arr[k] = R[j]\n",
    "                j+=1\n",
    "                count+= n1-i"
   ]
  }
 ],
 "metadata": {},
 "nbformat": 4,
 "nbformat_minor": 4
}
