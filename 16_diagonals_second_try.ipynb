{
 "cells": [
  {
   "cell_type": "code",
   "execution_count": 13,
   "metadata": {},
   "outputs": [],
   "source": [
    "def extend(perm,shape,diagonals):\n",
    "    \n",
    "    \n",
    "    if (perm.count(1)+perm.count(2)) == diagonals:\n",
    "        \n",
    "        print(perm)\n",
    "        \n",
    "        return\n",
    "        \n",
    "    \n",
    "    \n",
    "    \n",
    "    if len(perm)< (shape*shape):\n",
    "        for i in [1,2,0]:\n",
    "            perm.append(i)\n",
    "            if can_extend(perm,shape):\n",
    "                extend(perm,shape,diagonals)\n",
    "            perm.pop()\n",
    "            \n",
    "            \n",
    "    \n",
    "    \n",
    "    \n",
    "    "
   ]
  },
  {
   "cell_type": "code",
   "execution_count": 14,
   "metadata": {},
   "outputs": [],
   "source": [
    "def can_extend(perm,shape):\n",
    "    \n",
    "    i = len(perm)\n",
    "    \n",
    "    ### check  row above\n",
    "    \n",
    "    if i >= shape:\n",
    "        \n",
    "        \n",
    "        # check up\n",
    "        up = i-shape\n",
    "        if (perm[i-1]==1) and (perm[up-1]==2) or (perm[i-1]==2) and (perm[up-1]==1):\n",
    "            return False\n",
    "      \n",
    "    \n",
    "    \n",
    "        # check up and right\n",
    "        if i%shape != 0:\n",
    "            upright = i-(shape-1)\n",
    "            if (perm[i-1]==2) and (perm[upright-1]==2):\n",
    "                return False\n",
    "            \n",
    "      \n",
    "        # check up and left                          \n",
    "        if i%shape !=1:\n",
    "            upleft = i-(shape+1)\n",
    "            if (perm[i-1]==1) and ((perm[upleft-1]==1)):\n",
    "                return False\n",
    "            \n",
    "        \n",
    "   #### check behind \n",
    "    \n",
    "    if i > 0:\n",
    "        behind = i-1\n",
    "        \n",
    "        if ((perm[i-1]==1) and (perm[behind-1]==2)) or ((perm[i-1]==2) and (perm[behind-1]==1)):\n",
    "            return False\n",
    "        \n",
    "        \n",
    "    return True\n",
    "        "
   ]
  },
  {
   "cell_type": "code",
   "execution_count": 16,
   "metadata": {},
   "outputs": [
    {
     "name": "stdout",
     "output_type": "stream",
     "text": [
      "[2, 2, 2, 0, 1, 0, 0, 2, 0, 1, 1, 1, 0, 1, 1, 1, 0, 2, 0, 0, 1, 0, 2, 2, 2]\n"
     ]
    }
   ],
   "source": [
    "extend([],5,16)"
   ]
  },
  {
   "cell_type": "code",
   "execution_count": null,
   "metadata": {},
   "outputs": [],
   "source": []
  }
 ],
 "metadata": {
  "kernelspec": {
   "display_name": "Python 3",
   "language": "python",
   "name": "python3"
  },
  "language_info": {
   "codemirror_mode": {
    "name": "ipython",
    "version": 3
   },
   "file_extension": ".py",
   "mimetype": "text/x-python",
   "name": "python",
   "nbconvert_exporter": "python",
   "pygments_lexer": "ipython3",
   "version": "3.8.3"
  }
 },
 "nbformat": 4,
 "nbformat_minor": 4
}
